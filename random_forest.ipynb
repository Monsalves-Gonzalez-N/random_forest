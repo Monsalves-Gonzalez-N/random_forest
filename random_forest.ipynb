{
 "cells": [
  {
   "cell_type": "code",
   "execution_count": null,
   "id": "c2fc4f5e",
   "metadata": {},
   "outputs": [],
   "source": [
    "import pandas as pd\n",
    "from imblearn.ensemble import BalancedRandomForestClassifier\n",
    "from sklearn.model_selection import train_test_split\n"
   ]
  },
  {
   "cell_type": "code",
   "execution_count": null,
   "id": "e5ba8efc",
   "metadata": {},
   "outputs": [],
   "source": [
    "catalogo = pd.read_csv(\"skiff_unico_2mass_gaia_corrected_qlf_plx.csv\")"
   ]
  },
  {
   "cell_type": "code",
   "execution_count": null,
   "id": "cfac6b65",
   "metadata": {},
   "outputs": [],
   "source": [
    "filters_2mass = ['j_m', 'h_m', 'ks_m']\n",
    "filters_gaia = ['phot_g_mean_mag', 'phot_bp_mean_mag', 'phot_rp_mean_mag']\n",
    "filters_combined = filters_gaia + filters_2mass "
   ]
  },
  {
   "cell_type": "code",
   "execution_count": null,
   "id": "81212aa2",
   "metadata": {},
   "outputs": [],
   "source": [
    "from itertools import combinations\n",
    "combinations = list(combinations(filters_combined, 2))\n",
    "lista_colores = []\n",
    "for i in range(len(combinations)):\n",
    "    catalogo[combinations[i][0] +\" - \"+ combinations[i][1]] = catalogo[combinations[i][0]] - catalogo[combinations[i][1]]\n",
    "    lista_colores.append(combinations[i][0] +\" - \"+ combinations[i][1])"
   ]
  },
  {
   "cell_type": "code",
   "execution_count": null,
   "id": "e7c0387f",
   "metadata": {},
   "outputs": [],
   "source": [
    "catalogo = catalogo.dropna(subset=lista_colores)"
   ]
  },
  {
   "cell_type": "code",
   "execution_count": null,
   "id": "4eed57ac",
   "metadata": {},
   "outputs": [],
   "source": [
    "X_train, X_test, y_train, y_test = train_test_split(catalogo, catalogo.label, test_size=0.3)\n"
   ]
  },
  {
   "cell_type": "code",
   "execution_count": null,
   "id": "a349f8cc",
   "metadata": {},
   "outputs": [],
   "source": [
    "brf = BalancedRandomForestClassifier(random_state=42)\n"
   ]
  },
  {
   "cell_type": "code",
   "execution_count": null,
   "id": "9a1cfe81",
   "metadata": {},
   "outputs": [],
   "source": [
    "from sklearn.ensemble import RandomForestClassifier\n",
    "from sklearn.model_selection import RandomizedSearchCV\n",
    "from sklearn.metrics import classification_report\n",
    "from sklearn.datasets import make_classification\n",
    "from scipy.stats import randint\n",
    "\n",
    "\n",
    "# Definir los hiperparámetros a ajustar\n",
    "param_dist = {\n",
    "    'n_estimators': randint(100, 1000),\n",
    "    'max_depth': randint(3, 10),\n",
    "    'min_samples_split': randint(2, 20),\n",
    "    'min_samples_leaf': randint(1, 10)\n",
    "}\n",
    "\n",
    "# Crear el estimador del modelo\n",
    "rf = BalancedRandomForestClassifier(random_state=42)\n",
    "\n",
    "# Realizar la búsqueda aleatoria de hiperparámetros\n",
    "random_search = RandomizedSearchCV(estimator=rf, param_distributions=param_dist, n_iter=10, cv=5)\n",
    "random_search.fit(X_train[lista_colores], y_train)\n",
    "\n",
    "# Imprimir los mejores hiperparámetros encontrados\n",
    "print(\"Mejores hiperparámetros:\")\n",
    "print(random_search.best_params_)\n",
    "\n"
   ]
  },
  {
   "cell_type": "code",
   "execution_count": null,
   "id": "cb99b1c2",
   "metadata": {},
   "outputs": [],
   "source": [
    "from sklearn.metrics import classification_report\n",
    "from imblearn.metrics import geometric_mean_score, classification_report_imbalanced\n",
    "\n",
    "def obtener_metricas_imbalanced(y_real, y_pred):\n",
    "    # Calcula las métricas de clasificación desequilibradas\n",
    "    report_imbalanced = classification_report_imbalanced(y_real, y_pred)\n",
    "    geometric_mean = geometric_mean_score(y_real, y_pred)\n",
    "\n",
    "    # Imprime el informe de clasificación desequilibrado\n",
    "    print(\"Informe de clasificación desequilibrado:\")\n",
    "    print(report_imbalanced)\n",
    "\n",
    "    # Imprime la puntuación de la media geométrica\n",
    "    print(\"Puntuación de la media geométrica: {:.2f}\".format(geometric_mean))\n",
    "\n",
    "    # Devuelve el informe de clasificación desequilibrado y la puntuación de la media geométrica\n",
    "    return report_imbalanced, geometric_mean\n"
   ]
  },
  {
   "cell_type": "code",
   "execution_count": null,
   "id": "76d8ab03",
   "metadata": {},
   "outputs": [],
   "source": [
    "obtener_metricas_imbalanced(X_test.label,\n",
    "                          random_search.predict(X_test[lista_colores]) )"
   ]
  },
  {
   "cell_type": "code",
   "execution_count": null,
   "id": "8bef10f7",
   "metadata": {},
   "outputs": [],
   "source": [
    "import joblib\n",
    "\n",
    "\n",
    "# Guarda el modelo\n",
    "joblib.dump(random_search.best_estimator_, 'random_forest_model.pkl')\n"
   ]
  }
 ],
 "metadata": {
  "kernelspec": {
   "display_name": "Python 3 (ipykernel)",
   "language": "python",
   "name": "python3"
  },
  "language_info": {
   "codemirror_mode": {
    "name": "ipython",
    "version": 3
   },
   "file_extension": ".py",
   "mimetype": "text/x-python",
   "name": "python",
   "nbconvert_exporter": "python",
   "pygments_lexer": "ipython3",
   "version": "3.8.13"
  }
 },
 "nbformat": 4,
 "nbformat_minor": 5
}
